{
 "cells": [
  {
   "cell_type": "code",
   "execution_count": 7,
   "metadata": {},
   "outputs": [],
   "source": [
    "import threed_optix as tdo\n",
    "\n",
    "#Your API key from 3DOptix user interface\n",
    "api_key = '116c6ed1-c6d4-45fe-b49d-761eca28aa02'\n",
    "\n",
    "#api is the object that manages the communication with 3DOptix server\n",
    "api = tdo.ThreedOptixAPI(api_key)"
   ]
  },
  {
   "cell_type": "code",
   "execution_count": 8,
   "metadata": {},
   "outputs": [],
   "source": [
    "from threed_optix import api as api_library\n",
    "\n",
    "#Your API key from 3DOptix user interface\n",
    "api_key = '116c6ed1-c6d4-45fe-b49d-761eca28aa02'\n",
    "\n",
    "#api is the object that manages the communication with 3DOptix server\n",
    "api = api_library.ThreedOptixAPI(api_key)"
   ]
  },
  {
   "cell_type": "code",
   "execution_count": 22,
   "metadata": {},
   "outputs": [
    {
     "data": {
      "text/plain": [
       "['API_URL',\n",
       " 'AnalysisResult',\n",
       " 'Job',\n",
       " 'Part',\n",
       " 'Pose',\n",
       " 'Setup',\n",
       " 'ThreedOptixAPI',\n",
       " 'Union',\n",
       " 'Vector3',\n",
       " '__builtins__',\n",
       " '__cached__',\n",
       " '__doc__',\n",
       " '__file__',\n",
       " '__loader__',\n",
       " '__name__',\n",
       " '__package__',\n",
       " '__spec__',\n",
       " 'asyncio',\n",
       " 'get',\n",
       " 'get_part',\n",
       " 'get_setup',\n",
       " 'get_setups',\n",
       " 'healthcheck',\n",
       " 'json',\n",
       " 'pd',\n",
       " 'prepare_job',\n",
       " 'put',\n",
       " 'requests',\n",
       " 'run_simulation',\n",
       " 'set',\n",
       " 'set_part']"
      ]
     },
     "execution_count": 22,
     "metadata": {},
     "output_type": "execute_result"
    }
   ],
   "source": [
    "dir(api_library)"
   ]
  },
  {
   "cell_type": "code",
   "execution_count": 24,
   "metadata": {},
   "outputs": [],
   "source": [
    "#'setups' will be a list of your simulation setups, each one has a name and id\n",
    "setups = api.get_setups()"
   ]
  },
  {
   "cell_type": "code",
   "execution_count": 25,
   "metadata": {},
   "outputs": [
    {
     "data": {
      "text/plain": [
       "({'64d4e71f3f4125e4d18b4fbd': {'parts': [{'id': 'LLCR49NGRNJ',\n",
       "     'label': 'LA4647-A UVFS Plano Convex-Lens; Dia:0.5 in; f=20 mm ARC 350-700nm'},\n",
       "    {'id': 'LLCR4M5R3UK', 'label': 'User-defined light source'}]}},\n",
       " '')"
      ]
     },
     "execution_count": 25,
     "metadata": {},
     "output_type": "execute_result"
    }
   ],
   "source": [
    "api_library.get_setup(setup.id,api_key)"
   ]
  },
  {
   "cell_type": "code",
   "execution_count": 26,
   "metadata": {},
   "outputs": [
    {
     "name": "stdout",
     "output_type": "stream",
     "text": [
      "M2 Setup 645570141c2a14d4b65dafee\n",
      "M4 64712979e5ab9c18744a9684\n",
      "Pellin Broca Prism 6471c2dbe193ecea72583014\n",
      "M4 2 galvo collection 64758670e5ab9c18744c8def\n",
      "M4 2 galvo collection without 4 f 64765d51e5ab9c18744d62ed\n",
      "M4 2 galvo collection with misalignment 64796e57293bcaae94734275\n",
      "M4  two galvo setup 647aebea293bcaae94740e8f\n",
      "Copy of M2 Setup 647b8b58293bcaae94746a8e\n",
      "Yong-Aberration simulation 648391fabf14b7ab0bdbe928\n",
      "Yong-collection test 6484134dbf14b7ab0bdc1785\n",
      "Copy of M4444 64841ff1bf14b7ab0bdc20bf\n",
      "Auto Beamwalk 64aa2f4ac3c95f7c977d9328\n",
      "Python API Try 64d4e71f3f4125e4d18b4fbd\n"
     ]
    }
   ],
   "source": [
    "# Chosen setup name\n",
    "setup_name = 'Python API Try'\n",
    "\n",
    "# Get the 'tdo.Setup' object to work on\n",
    "setup = None\n",
    "for s in setups:\n",
    "    # Pay attention that setup name is not unique, and id is.\n",
    "    print(s.name, s.id)\n",
    "\n",
    "    # Get your setup by name\n",
    "    if s.name == setup_name:\n",
    "        setup = s\n",
    "        break\n",
    "\n",
    "assert setup is not None, \"Setup was not found\"\n",
    "\n",
    "# Fetch setup parts and information\n",
    "# The method updates the setup object parts\n",
    "api.fetch_setup(setup)"
   ]
  },
  {
   "cell_type": "code",
   "execution_count": 27,
   "metadata": {},
   "outputs": [],
   "source": [
    "# 'parts' will be a list of the optical elements, lasers and detectors in the setup\n",
    "parts = setup.get_parts()"
   ]
  },
  {
   "cell_type": "code",
   "execution_count": 28,
   "metadata": {},
   "outputs": [
    {
     "name": "stdout",
     "output_type": "stream",
     "text": [
      "LA4647-A UVFS Plano Convex-Lens; Dia:0.5 in; f=20 mm ARC 350-700nm LLCR49NGRNJ\n",
      "User-defined light source LLCR4M5R3UK\n"
     ]
    }
   ],
   "source": [
    "#Examine the parts of the setup\n",
    "for p in parts:\n",
    "    print(p.label, p.id)"
   ]
  },
  {
   "cell_type": "code",
   "execution_count": 29,
   "metadata": {},
   "outputs": [],
   "source": [
    "import copy\n",
    "\n",
    "#Chosen part id\n",
    "part_id = 'LLCR4M5R3UK'\n",
    "\n",
    "#Get the 'tdo.Part' object to work on\n",
    "part = None\n",
    "for p in parts:\n",
    "    #Get part by id\n",
    "    if p.id == part_id:\n",
    "       part = p\n",
    "       break\n",
    "\n",
    "assert part is not None, \"Part was not found\"\n",
    "\n",
    "#Fetch the part data\n",
    "# The methods update the part object position and rotation\n",
    "api.fetch(part)\n",
    "\n",
    "#Before you make any changes, we recommend to import copy and store the original part with deepcopy:\n",
    "original_part = copy.deepcopy(part)"
   ]
  },
  {
   "cell_type": "code",
   "execution_count": 32,
   "metadata": {},
   "outputs": [
    {
     "data": {
      "text/plain": [
       "(0, 0, 50)"
      ]
     },
     "execution_count": 32,
     "metadata": {},
     "output_type": "execute_result"
    }
   ],
   "source": [
    "#Define changes\n",
    "new_position = api_library.Vector3(0, 0, 50)\n",
    "\n",
    "#Apply on the part\n",
    "part.change_position(new_position)"
   ]
  },
  {
   "cell_type": "code",
   "execution_count": 36,
   "metadata": {},
   "outputs": [],
   "source": [
    "#Update the changes\n",
    "api.update(part)\n",
    "\n",
    "#Since we stored the original part, we could always restore it\n",
    "# api.update(original_part)"
   ]
  },
  {
   "cell_type": "code",
   "execution_count": 34,
   "metadata": {},
   "outputs": [],
   "source": [
    "#run the simulation\n",
    "result = api.run(setup)\n",
    "\n",
    "#fetch the data\n",
    "api.fetch(result)\n",
    "\n",
    "#Get the results as a pandas DataFrame:\n",
    "data = result.data\n",
    "\n",
    "#Save the data locally\n",
    "data_path = '3dOptixAPITest'\n",
    "data.to_csv(data_path)"
   ]
  }
 ],
 "metadata": {
  "kernelspec": {
   "display_name": "Python 3",
   "language": "python",
   "name": "python3"
  },
  "language_info": {
   "codemirror_mode": {
    "name": "ipython",
    "version": 3
   },
   "file_extension": ".py",
   "mimetype": "text/x-python",
   "name": "python",
   "nbconvert_exporter": "python",
   "pygments_lexer": "ipython3",
   "version": "3.10.12"
  },
  "orig_nbformat": 4
 },
 "nbformat": 4,
 "nbformat_minor": 2
}
