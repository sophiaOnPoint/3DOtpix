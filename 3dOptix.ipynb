{
 "cells": [
  {
   "cell_type": "code",
   "execution_count": 17,
   "metadata": {},
   "outputs": [],
   "source": [
    "import threed_optix as tdo\n",
    "\n",
    "#Your API key from 3DOptix user interface\n",
    "api_key = '116c6ed1-c6d4-45fe-b49d-761eca28aa02'\n",
    "\n",
    "#api is the object that manages the communication with 3DOptix server\n",
    "api = tdo.ThreedOptixAPI(api_key)"
   ]
  },
  {
   "cell_type": "code",
   "execution_count": 11,
   "metadata": {},
   "outputs": [],
   "source": [
    "from threed_optix import api as api_library\n",
    "\n",
    "#Your API key from 3DOptix user interface\n",
    "api_key = '116c6ed1-c6d4-45fe-b49d-761eca28aa02'\n",
    "\n",
    "#api is the object that manages the communication with 3DOptix server\n",
    "api = api_library.ThreedOptixAPI(api_key)"
   ]
  },
  {
   "cell_type": "code",
   "execution_count": 12,
   "metadata": {},
   "outputs": [
    {
     "data": {
      "text/plain": [
       "['API_URL',\n",
       " 'AnalysisResult',\n",
       " 'Part',\n",
       " 'Pose',\n",
       " 'Setup',\n",
       " 'ThreedOptixAPI',\n",
       " 'Union',\n",
       " 'Vector3',\n",
       " '__builtins__',\n",
       " '__cached__',\n",
       " '__doc__',\n",
       " '__file__',\n",
       " '__loader__',\n",
       " '__name__',\n",
       " '__package__',\n",
       " '__spec__',\n",
       " 'asyncio',\n",
       " 'get',\n",
       " 'get_part',\n",
       " 'get_setup',\n",
       " 'get_setups',\n",
       " 'healthcheck',\n",
       " 'json',\n",
       " 'pd',\n",
       " 'put',\n",
       " 'requests',\n",
       " 'run_simulation',\n",
       " 'set',\n",
       " 'set_part']"
      ]
     },
     "execution_count": 12,
     "metadata": {},
     "output_type": "execute_result"
    }
   ],
   "source": [
    "dir(api_library)"
   ]
  },
  {
   "cell_type": "code",
   "execution_count": 18,
   "metadata": {},
   "outputs": [],
   "source": [
    "#'setups' will be a list of your simulation setups, each one has a name and id\n",
    "setups = api.get_setups()"
   ]
  },
  {
   "cell_type": "code",
   "execution_count": 19,
   "metadata": {},
   "outputs": [
    {
     "ename": "NameError",
     "evalue": "name 'setup' is not defined",
     "output_type": "error",
     "traceback": [
      "\u001b[0;31m---------------------------------------------------------------------------\u001b[0m",
      "\u001b[0;31mNameError\u001b[0m                                 Traceback (most recent call last)",
      "Cell \u001b[0;32mIn[19], line 1\u001b[0m\n\u001b[0;32m----> 1\u001b[0m api_library\u001b[39m.\u001b[39mget_setup(setup\u001b[39m.\u001b[39mid,api_key)\n",
      "\u001b[0;31mNameError\u001b[0m: name 'setup' is not defined"
     ]
    }
   ],
   "source": [
    "api_library.get_setup(setup.id,api_key)"
   ]
  },
  {
   "cell_type": "code",
   "execution_count": 20,
   "metadata": {},
   "outputs": [
    {
     "name": "stdout",
     "output_type": "stream",
     "text": [
      "Python API Try 64d4e71f3f4125e4d18b4fbd\n"
     ]
    }
   ],
   "source": [
    "# Chosen setup name\n",
    "setup_name = 'Python API Try'\n",
    "\n",
    "# Get the 'tdo.Setup' object to work on\n",
    "setup = None\n",
    "for s in setups:\n",
    "    # Pay attention that setup name is not unique, and id is.\n",
    "    print(s.name, s.id)\n",
    "\n",
    "    # Get your setup by name\n",
    "    if s.name == setup_name:\n",
    "        setup = s\n",
    "        break\n",
    "\n",
    "assert setup is not None, \"Setup was not found\"\n",
    "\n",
    "# Fetch setup parts and information\n",
    "# The method updates the setup object parts\n",
    "api.fetch_setup(setup)"
   ]
  },
  {
   "cell_type": "code",
   "execution_count": 21,
   "metadata": {},
   "outputs": [],
   "source": [
    "# 'parts' will be a list of the optical elements, lasers and detectors in the setup\n",
    "parts = setup.get_parts()"
   ]
  },
  {
   "cell_type": "code",
   "execution_count": 22,
   "metadata": {},
   "outputs": [
    {
     "name": "stdout",
     "output_type": "stream",
     "text": [
      "User-defined light source LLCR4M5R3UK\n",
      "Rectangular detector LLE3TQ3F2NJ\n",
      "LA4647-A UVFS Plano Convex-Lens; Dia:0.5 in; f=20 mm ARC 350-700nm LLCR49NGRNJ\n"
     ]
    }
   ],
   "source": [
    "#Examine the parts of the setup\n",
    "for p in parts:\n",
    "    print(p.label, p.id)"
   ]
  },
  {
   "cell_type": "code",
   "execution_count": 23,
   "metadata": {},
   "outputs": [],
   "source": [
    "import copy\n",
    "\n",
    "#Chosen part id\n",
    "part_id = 'LLCR4M5R3UK'\n",
    "\n",
    "#Get the 'tdo.Part' object to work on\n",
    "part = None\n",
    "for p in parts:\n",
    "    #Get part by id\n",
    "    if p.id == part_id:\n",
    "       part = p\n",
    "       break\n",
    "\n",
    "assert part is not None, \"Part was not found\"\n",
    "\n",
    "#Fetch the part data\n",
    "# The methods update the part object position and rotation\n",
    "api.fetch(part)\n",
    "\n",
    "#Before you make any changes, we recommend to import copy and store the original part with deepcopy:\n",
    "original_part = copy.deepcopy(part)"
   ]
  },
  {
   "cell_type": "code",
   "execution_count": 24,
   "metadata": {},
   "outputs": [
    {
     "data": {
      "text/plain": [
       "(0, 0, 50)"
      ]
     },
     "execution_count": 24,
     "metadata": {},
     "output_type": "execute_result"
    }
   ],
   "source": [
    "#Define changes\n",
    "new_position = api_library.Vector3(0, 0, 50)\n",
    "\n",
    "#Apply on the part\n",
    "part.change_position(new_position)"
   ]
  },
  {
   "cell_type": "code",
   "execution_count": 25,
   "metadata": {},
   "outputs": [],
   "source": [
    "#Update the changes\n",
    "api.update(part)\n",
    "\n",
    "#Since we stored the original part, we could always restore it\n",
    "# api.update(original_part)"
   ]
  },
  {
   "cell_type": "code",
   "execution_count": 27,
   "metadata": {},
   "outputs": [
    {
     "ename": "Exception",
     "evalue": "snellius_version cannot be undefined.",
     "output_type": "error",
     "traceback": [
      "\u001b[0;31m---------------------------------------------------------------------------\u001b[0m",
      "\u001b[0;31mException\u001b[0m                                 Traceback (most recent call last)",
      "Cell \u001b[0;32mIn[27], line 2\u001b[0m\n\u001b[1;32m      1\u001b[0m \u001b[39m#run the simulation\u001b[39;00m\n\u001b[0;32m----> 2\u001b[0m result \u001b[39m=\u001b[39m api\u001b[39m.\u001b[39;49mrun(setup)\n\u001b[1;32m      4\u001b[0m \u001b[39m#fetch the data\u001b[39;00m\n\u001b[1;32m      5\u001b[0m api\u001b[39m.\u001b[39mfetch(result)\n",
      "File \u001b[0;32m/usr/local/lib/python3.10/dist-packages/threed_optix/api.py:77\u001b[0m, in \u001b[0;36mThreedOptixAPI.run\u001b[0;34m(self, setup)\u001b[0m\n\u001b[1;32m     75\u001b[0m     \u001b[39mreturn\u001b[39;00m AnalysisResult\u001b[39m.\u001b[39mnew(data[\u001b[39m'\u001b[39m\u001b[39msimulation_result_link\u001b[39m\u001b[39m'\u001b[39m])\n\u001b[1;32m     76\u001b[0m \u001b[39melse\u001b[39;00m:\n\u001b[0;32m---> 77\u001b[0m     \u001b[39mraise\u001b[39;00m \u001b[39mException\u001b[39;00m(message)\n",
      "\u001b[0;31mException\u001b[0m: snellius_version cannot be undefined."
     ]
    }
   ],
   "source": [
    "#run the simulation\n",
    "result = api.run(setup)\n",
    "\n",
    "#fetch the data\n",
    "api.fetch(result)\n",
    "\n",
    "#Get the results as a pandas DataFrame:\n",
    "data = result.data\n",
    "\n",
    "#Save the data locally\n",
    "data_path = '3dOptixAPITest'\n",
    "data.to_csv(data_path)"
   ]
  },
  {
   "cell_type": "code",
   "execution_count": null,
   "metadata": {},
   "outputs": [],
   "source": [
    "# set laser info\n",
    "plane_wave_data = {\n",
    "    \"source_shape\": \"CIRCULAR\",\n",
    "    \"radius\": 5,\n",
    "}\n",
    "\n",
    "\n",
    "ls.to_plane_wave(**plane_wave_config)\n",
    "\n",
    "# Get the light source\n",
    "light_source = setup['LG3']\n",
    "\n",
    "#Backup the original light source's state\n",
    "light_source.backup()\n",
    "\n",
    "#For equal-weight wavelengths\n",
    "new_wavelengths = [680, 700, 720]\n",
    "\n",
    "#Change the wavelengths completely\n",
    "light_source.change_wavelengths(new_wavelengths)\n",
    "#Add new ones\n",
    "light_source.add_wavelengths(new_wavelengths)\n",
    "\n",
    "#Change pose\n",
    "# light_source.change_pose([x, y, z, alpha, beta, gamma])\n",
    "\n",
    "#Verify change\n",
    "# print(light_source.wavelengths, light_source.pose)"
   ]
  }
 ],
 "metadata": {
  "kernelspec": {
   "display_name": "Python 3",
   "language": "python",
   "name": "python3"
  },
  "language_info": {
   "codemirror_mode": {
    "name": "ipython",
    "version": 3
   },
   "file_extension": ".py",
   "mimetype": "text/x-python",
   "name": "python",
   "nbconvert_exporter": "python",
   "pygments_lexer": "ipython3",
   "version": "3.8.10"
  },
  "orig_nbformat": 4
 },
 "nbformat": 4,
 "nbformat_minor": 2
}
